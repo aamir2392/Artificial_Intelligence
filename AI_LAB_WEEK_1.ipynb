{
 "cells": [
  {
   "cell_type": "code",
   "execution_count": 4,
   "id": "be7bd95f",
   "metadata": {},
   "outputs": [
    {
     "name": "stdout",
     "output_type": "stream",
     "text": [
      "Enter any number :18\n",
      "The number 18 is even\n"
     ]
    }
   ],
   "source": [
    "# Activity 1\n",
    "# checking the number whether its is even or odd\n",
    "\n",
    "num = int(input(\"Enter any number :\"))\n",
    "if num%2 == 0:\n",
    "    print(f\"The number {num} is even\")\n",
    "else:\n",
    "    print(f\"The number {num} is odd\")"
   ]
  },
  {
   "cell_type": "code",
   "execution_count": 6,
   "id": "de2d3b3f",
   "metadata": {},
   "outputs": [
    {
     "name": "stdout",
     "output_type": "stream",
     "text": [
      "Enter numbers: 1\n",
      "Enter numbers: 2\n",
      "Enter numbers: 3\n",
      "Enter numbers: 4\n",
      "Enter numbers: 5\n",
      "Enter numbers: 0\n",
      "The sum of all the nums you entered is : 15\n"
     ]
    }
   ],
   "source": [
    "# Activity 2\n",
    "# Write a Python code to keep accepting integer values from user until 0 is entered. Display sum of the given values.\n",
    "\n",
    "num = int(input(\"Enter numbers: \"))\n",
    "sum_of_nums = 0\n",
    "while num != 0:\n",
    "    sum_of_nums = sum_of_nums+num\n",
    "    num = int(input(\"Enter numbers: \"))\n",
    "print(f\"The sum of all the nums you entered is : {sum_of_nums}\")"
   ]
  },
  {
   "cell_type": "code",
   "execution_count": 7,
   "id": "ee0f2f77",
   "metadata": {},
   "outputs": [
    {
     "name": "stdout",
     "output_type": "stream",
     "text": [
      "Enter a number : 17\n",
      "The number 17 is prime\n"
     ]
    }
   ],
   "source": [
    "# Activity 3\n",
    "# Write a Python code to accept an integer value from user and check that whether the given value is prime number or not\n",
    "\n",
    "count = 0\n",
    "num = int(input(\"Enter a number : \"))\n",
    "for i in range(1,num+1):\n",
    "    if num%i == 0:\n",
    "        count+= 1\n",
    "if(count==2):\n",
    "    print(f\"The number {num} is prime\")\n",
    "else:\n",
    "    print(f\"The number {num} is prime\")"
   ]
  },
  {
   "cell_type": "code",
   "execution_count": 8,
   "id": "8d326d71",
   "metadata": {},
   "outputs": [
    {
     "name": "stdout",
     "output_type": "stream",
     "text": [
      "Enter five numbers : 10\n",
      "Enter five numbers : 20\n",
      "Enter five numbers : 30\n",
      "Enter five numbers : 40\n",
      "Enter five numbers : 50\n",
      "The sum of the numbers you entered is : 150\n"
     ]
    }
   ],
   "source": [
    "# Activity 4\n",
    "# Accept 5 integer values from user and display their sum. Draw flowchart before coding in python.\n",
    "\n",
    "i= 0 \n",
    "sum=0\n",
    "while i <= 4:\n",
    "    nums = int(input(\"Enter five numbers : \"))\n",
    "    sum = sum + nums\n",
    "    i = i+1\n",
    "print(f\"The sum of the numbers you entered is : {sum}\")"
   ]
  },
  {
   "cell_type": "code",
   "execution_count": 9,
   "id": "c1f55fd5",
   "metadata": {},
   "outputs": [
    {
     "name": "stdout",
     "output_type": "stream",
     "text": [
      "The sum of numbers between 1 and 10 is : 55\n"
     ]
    }
   ],
   "source": [
    "# Activity 5\n",
    "# Calculate the sum of all the values between 0-10 using while loop.\n",
    "\n",
    "i = 0\n",
    "sum = 0\n",
    "while i<=10:\n",
    "    sum = sum + i\n",
    "    i= i+1\n",
    "print(f\"The sum of numbers between 1 and 10 is : {sum}\")"
   ]
  },
  {
   "cell_type": "code",
   "execution_count": 10,
   "id": "cf1c1d25",
   "metadata": {},
   "outputs": [
    {
     "name": "stdout",
     "output_type": "stream",
     "text": [
      "Please Enter any Number: 256\n",
      "\n",
      " Reverse of entered number is =  652\n"
     ]
    }
   ],
   "source": [
    "# Lab Task 1: Write a program that prompts the user to input an integer and then outputs the number with the digits reversed.\n",
    "# For example, if the input is 12345, the output should be 54321. \n",
    "\n",
    "\n",
    "number = int(input(\"Please Enter any Number: \"))\n",
    "reverse = 0\n",
    "while(number != 0):\n",
    "    remainder = number %10\n",
    "    reverse = reverse * 10 + remainder\n",
    "    number = number // 10\n",
    "print(f\"\\n Reverse of entered number is =  {reverse}\")\n"
   ]
  },
  {
   "cell_type": "code",
   "execution_count": 12,
   "id": "62a2c433",
   "metadata": {},
   "outputs": [
    {
     "name": "stdout",
     "output_type": "stream",
     "text": [
      "Enter the number set : 1\n",
      "Enter the number set : 2\n",
      "Enter the number set : 3\n",
      "Enter the number set : 4\n",
      "Enter the number set : 5\n",
      "The sum of even numbers is : 6\n",
      "The sum of odd numbers is : 9\n"
     ]
    }
   ],
   "source": [
    "# Lab Task 2: Write a program that reads a set of integers,\n",
    "# and then prints the sum of the even and odd integers.\n",
    "\n",
    "sum_even = 0\n",
    "sum_odd = 0\n",
    "i = 1\n",
    "while i <= 5:\n",
    "    num = int(input(\"Enter the number set : \"))\n",
    "    if num%2 == 0:\n",
    "        sum_even = sum_even + num\n",
    "    else:\n",
    "        sum_odd = sum_odd + num\n",
    "    i = i + 1\n",
    "        \n",
    "print(f\"The sum of even numbers is : {sum_even}\")\n",
    "print(f\"The sum of odd numbers is : {sum_odd}\")"
   ]
  },
  {
   "cell_type": "code",
   "execution_count": 14,
   "id": "02990fec",
   "metadata": {},
   "outputs": [
    {
     "name": "stdout",
     "output_type": "stream",
     "text": [
      "Enter the limit where upto you want the series : 17\n",
      "0 1 2 3 5 8 13 21 34 55 89 144 233 377 610 987 1597 \n"
     ]
    }
   ],
   "source": [
    "# Lab Task 3: Fibonacci series is that when you add the previous two numbers the next number is formed.\n",
    "# You have to start from 0 and 1. E.g. 0+1=1 → 1+1=2 → 1+2=3 → 2+3=5 → 3+5=8 → 5+8=13 \n",
    "# So the series becomes 0 1 1 2 3 5 8 13 21 34 55 …………………………………… \n",
    "\n",
    "num = int(input(\"Enter the limit where upto you want the series : \"))\n",
    "fabi_sequence = \"\"\n",
    "a = 0\n",
    "b = 1\n",
    "c = 0\n",
    "\n",
    "for i in range (1, num+1):\n",
    "    fabi_sequence += (f\"{c} \")\n",
    "    c= a+b\n",
    "    a=b\n",
    "    b=c\n",
    "print(fabi_sequence)\n"
   ]
  },
  {
   "cell_type": "code",
   "execution_count": 15,
   "id": "de3a4be6",
   "metadata": {},
   "outputs": [
    {
     "name": "stdout",
     "output_type": "stream",
     "text": [
      "Enter your Marks : 88\n",
      "Grade B\n"
     ]
    }
   ],
   "source": [
    "# Lab-Task-4\n",
    "# Write a Python code to accept marks of a student from 1-100.\n",
    "# Display the grade according to the following formula.\n",
    "# Grade F if marks are less than 50\n",
    "# Grade E if marks are between 50 to 60\n",
    "# Grade D if marks are between 61 to 70\n",
    "# Grade C if marks are between 71 to 80\n",
    "# Grade B if marks are between 81 to 90\n",
    "# Grade A if marks are between 91 to 100\n",
    "\n",
    "marks = int(input('Enter your Marks : '))\n",
    "if(marks < 50):\n",
    "    print('Grade F')\n",
    "elif(marks >= 50 and marks <= 60):\n",
    "    print('Grade E')\n",
    "elif(marks >= 61 and marks <= 70):\n",
    "    print('Grade D')\n",
    "elif(marks >= 71 and marks <= 80):\n",
    "    print('Grade C')\n",
    "elif(marks >= 81 and marks <= 90):\n",
    "    print('Grade B')\n",
    "else:\n",
    "    print('Grade A')\n",
    "    "
   ]
  },
  {
   "cell_type": "code",
   "execution_count": 16,
   "id": "0f7b8a9c",
   "metadata": {},
   "outputs": [
    {
     "name": "stdout",
     "output_type": "stream",
     "text": [
      "Enter a number : 11\n",
      "Factorial of 11 = 39916800\n"
     ]
    }
   ],
   "source": [
    "# Lab-Task-5\n",
    "# Write a program that takes a number from user and calculate the factorial of that number\n",
    "\n",
    "num = int(input('Enter a number : '))\n",
    "factorial = 1\n",
    "for i in range(1, num + 1):\n",
    "    factorial *= i\n",
    "print(f'Factorial of {num} = {factorial}')"
   ]
  },
  {
   "cell_type": "code",
   "execution_count": null,
   "id": "db73c2b3",
   "metadata": {},
   "outputs": [],
   "source": []
  }
 ],
 "metadata": {
  "kernelspec": {
   "display_name": "Python 3 (ipykernel)",
   "language": "python",
   "name": "python3"
  },
  "language_info": {
   "codemirror_mode": {
    "name": "ipython",
    "version": 3
   },
   "file_extension": ".py",
   "mimetype": "text/x-python",
   "name": "python",
   "nbconvert_exporter": "python",
   "pygments_lexer": "ipython3",
   "version": "3.9.12"
  }
 },
 "nbformat": 4,
 "nbformat_minor": 5
}
