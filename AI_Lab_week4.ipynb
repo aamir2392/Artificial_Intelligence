{
  "nbformat": 4,
  "nbformat_minor": 0,
  "metadata": {
    "colab": {
      "provenance": [],
      "authorship_tag": "ABX9TyPze2vG0omQe2UkfJFr8fFC",
      "include_colab_link": true
    },
    "kernelspec": {
      "name": "python3",
      "display_name": "Python 3"
    },
    "language_info": {
      "name": "python"
    }
  },
  "cells": [
    {
      "cell_type": "markdown",
      "metadata": {
        "id": "view-in-github",
        "colab_type": "text"
      },
      "source": [
        "<a href=\"https://colab.research.google.com/github/aamir2392/Artificial_Intelligence/blob/main/AI_Lab_week4.ipynb\" target=\"_parent\"><img src=\"https://colab.research.google.com/assets/colab-badge.svg\" alt=\"Open In Colab\"/></a>"
      ]
    },
    {
      "cell_type": "code",
      "execution_count": 1,
      "metadata": {
        "colab": {
          "base_uri": "https://localhost:8080/"
        },
        "id": "u0dq8qJAoWyQ",
        "outputId": "6570bfd8-1ba2-400c-a99d-badcc6013a4d"
      },
      "outputs": [
        {
          "output_type": "stream",
          "name": "stdout",
          "text": [
            "['A', 'C', 'E']\n",
            "['A', 'E', 'D']\n"
          ]
        }
      ],
      "source": [
        "# Activity 1\n",
        "\n",
        "class Node:\n",
        "  def __init__(self, state, parent, actions, totalCost):\n",
        "    self.state = state\n",
        "    self.parent = parent\n",
        "    self.actions = actions\n",
        "    self.totalCost = totalCost\n",
        "\n",
        "def DepthFirstSearch():\n",
        "  initialNode = 'A'\n",
        "  goalNode = 'D'\n",
        "\n",
        "  graphNode = {'A': Node('A', None, ['B', 'E', 'C'], None),\n",
        "           'B': Node('B', None, ['D', 'E', 'A'], None),\n",
        "           'C': Node('C', None, ['A', 'F', 'G'], None),\n",
        "           'D': Node('D', None, ['B', 'E'], None),\n",
        "           'E': Node('E', None, ['A', 'B', 'D'], None),\n",
        "           'F': Node('F', None, ['C'], None),\n",
        "           'G': Node('G', None, ['C'], None)}\n",
        "  \n",
        "  frontier = [initialNode]\n",
        "  explored = []\n",
        "\n",
        "  while len(frontier) != 0:\n",
        "    currentNode = frontier.pop(len(frontier)-1)\n",
        "    explored.append(currentNode)\n",
        "    currentChildren = 0\n",
        "    for child in graphNode[currentNode].actions:\n",
        "      if child not in frontier and child not in explored:\n",
        "        graphNode[child].parent = currentNode\n",
        "        if graphNode[child].state == goalNode:\n",
        "          print(explored)\n",
        "          return roadMap(graphNode, initialNode, goalNode)\n",
        "        currentChildren = currentChildren + 1\n",
        "        frontier.append(child)\n",
        "    if currentChildren == 0:\n",
        "      del explored[len(explored)-1]\n",
        "\n",
        "def roadMap(graphNode, initialNode, goalNode):\n",
        "  solution = [goalNode]\n",
        "  currentParent = graphNode[goalNode].parent\n",
        "\n",
        "  while currentParent != None:\n",
        "    solution.append(currentParent)\n",
        "    currentParent = graphNode[currentParent].parent\n",
        "  solution.reverse()\n",
        "  return solution\n",
        "\n",
        "sol = DepthFirstSearch()\n",
        "print(sol)\n"
      ]
    },
    {
      "cell_type": "code",
      "source": [
        "# Task 1\n",
        "\n",
        "class Node:\n",
        "  def __init__(self, state, parent, actions, totalCost):\n",
        "    self.state = state\n",
        "    self.parent = parent\n",
        "    self.actions = actions\n",
        "    self.totalCost = totalCost\n",
        "  \n",
        "def DFS():\n",
        "  initialState = input(\"Enter initial Node: \")\n",
        "  destinationState = input(\"Enter destination Node: \")\n",
        "\n",
        "  graph = {'Oradea': Node('Oradea', None, ['Zerind' , 'Sibui'], None),\n",
        "                  'Zerind': Node('Zerind', None, ['Oradea' , 'Arad'], None),\n",
        "                  'Neamt': Node('Neamt', None, ['Iasi'], None),\n",
        "                  'Arad': Node('Arad', None, ['Zerind', 'Sibui' , 'Timisoara'], None),\n",
        "                  'Isai': Node('Isai', None, ['Neamt','Vaslui'], None),\n",
        "                  'Sibui': Node('Sibui', None, ['Oradea', 'Arad' , 'Fagaras'], None),\n",
        "                  'Fagaras': Node('Fagaras', None, ['Sibui', 'Bucharest'], None),\n",
        "                  'Vaslui': Node('Vaslui', None, ['Isai','Urziceni'], None),\n",
        "                  'Timisoara': Node('Timisoara', None, ['Arad','Lugoj'], None),\n",
        "                  'Riminica': Node('Riminica', None, ['Sibui','Pitesti','Craiova'], None),\n",
        "                  'Lugoj': Node('Lugoj', None, ['Timisoara','Mehadia'], None),\n",
        "                  'Pitesti': Node('Pitesti', None, ['Riminica','Craiova','Bucharest'], None),\n",
        "                  'Mehadia': Node('Mehadia', None, ['Lugoj','Drobeta'], None),\n",
        "                  'Bucharest': Node('Bucharest', None, ['Fagaras','Pitesti','Urziceni'], None),\n",
        "                  'Urziceni': Node('Urziceni', None, ['Bucharest','Hirsova','Vaslui'], None),\n",
        "                  'Hirsova': Node('Hirsova', None, ['Urziceni','Eforie'], None),\n",
        "                  'Drobeta': Node('Drobeta', None, ['Mehadia','Craiova'], None),\n",
        "                  'Craiova': Node('Craiova', None, ['Drobeta','Riminica','Pitesti'], None),\n",
        "                  'Giurgui': Node('Giurgui', None, ['Bucharest'], None),\n",
        "                  'Eforie': Node('Eforie', None, ['Hirsova'], None)}\n",
        "\n",
        "  frontierList = [initialState]\n",
        "  visitedList = []\n",
        "\n",
        "  while len(frontierList) != 0:\n",
        "    currentNode = frontierList.pop(len(frontierList)-1)\n",
        "    visitedList.append(currentNode)\n",
        "    currentChildren = 0\n",
        "    for child in graph[currentNode].actions:\n",
        "      if child not in frontierList and child not in visitedList:\n",
        "        graph[child].parent = currentNode\n",
        "        if graph[child].state == destinationState:\n",
        "          print(visitedList)\n",
        "          return roadMap(graph, initialState, destinationState)\n",
        "        currentChildren = currentChildren + 1\n",
        "        frontierList.append(child)\n",
        "    if currentChildren == 0:\n",
        "      del visitedList[len(visitedList)-1]\n",
        "\n",
        "def roadMap(graph, initialState, destinationState):\n",
        "  solution = [destinationState]\n",
        "  currentParent = graph[destinationState].parent\n",
        "\n",
        "  while currentParent != None:\n",
        "    solution.append(currentParent)\n",
        "    currentParent = graph[currentParent].parent\n",
        "  solution.reverse()\n",
        "  return solution\n",
        "\n",
        "sol = DFS()\n",
        "print(sol)"
      ],
      "metadata": {
        "colab": {
          "base_uri": "https://localhost:8080/"
        },
        "id": "oRKrb6HKopZB",
        "outputId": "64f32e64-eafa-450b-8823-e13619a06316"
      },
      "execution_count": 2,
      "outputs": [
        {
          "output_type": "stream",
          "name": "stdout",
          "text": [
            "Enter initial Node: Arad\n",
            "Enter destination Node: Bucharest\n",
            "['Arad', 'Timisoara', 'Lugoj', 'Mehadia', 'Drobeta', 'Craiova', 'Pitesti']\n",
            "['Arad', 'Timisoara', 'Lugoj', 'Mehadia', 'Drobeta', 'Craiova', 'Pitesti', 'Bucharest']\n"
          ]
        }
      ]
    },
    {
      "cell_type": "code",
      "source": [
        "# lab task 2\n",
        "\n",
        "class Trie:\n",
        "    def __init__(self):\n",
        "        self.character = {}\n",
        "        self.isLeaf = False  \n",
        " \n",
        "def insert(root, s):\n",
        "   \n",
        "    current = root\n",
        " \n",
        "    for chrt in s:\n",
        "        current = current.character.setdefault(chrt, Trie())\n",
        " \n",
        "    current.isLeaf = True\n",
        " \n",
        "row = [-1, -1, -1, 0, 1, 0, 1, 1]\n",
        "col = [-1, 1, 0, -1, -1, 1, 0, 1]\n",
        " \n",
        "def isSafe(x, y, processed, board, chrt):\n",
        "    return (0 <= x < len(processed)) and (0 <= y < len(processed[0])) and \\\n",
        "           not processed[x][y] and (board[x][y] == chrt)\n",
        " \n",
        " \n",
        "def searchBoggle(root, board, i, j, processed, path, result):\n",
        "    if root.isLeaf:\n",
        "        result.add(path)\n",
        " \n",
        "    processed[i][j] = True\n",
        " \n",
        "    for key, value in root.character.items():\n",
        " \n",
        "        for k in range(len(row)):\n",
        " \n",
        "            if isSafe(i + row[k], j + col[k], processed, board, key):\n",
        "                searchBoggle(value, board, i + row[k], j + col[k],\n",
        "                             processed, path + key, result)\n",
        " \n",
        "    processed[i][j] = False\n",
        " \n",
        " \n",
        "def searchInBoggle(board, words):\n",
        "    \n",
        "    result = set()\n",
        "    if not board or not len(board):\n",
        "        return\n",
        " \n",
        "    \n",
        "    root = Trie()\n",
        "    for word in words:\n",
        "        insert(root, word)\n",
        " \n",
        "    (M, N) = (len(board), len(board[0]))\n",
        " \n",
        "    processed = [[False for x in range(N)] for y in range(M)]\n",
        " \n",
        "    for i in range(M):\n",
        "        for j in range(N):\n",
        "            chrt = board[i][j]  \n",
        "            if chrt in root.character:\n",
        "                searchBoggle(root.character[chrt], board, i, j, processed, chrt, result)\n",
        " \n",
        "    return result\n",
        " \n",
        "\n",
        "board = [\n",
        "    ['M', 'S', 'E', 'F'],\n",
        "    ['R', 'A', 'T', 'D'],\n",
        "    ['L', 'O', 'N', 'E'],\n",
        "    ['K', 'A', 'F', 'B']\n",
        "  ]\n",
        "\n",
        "words = ['START', 'NOTE', 'SAND', 'STONED']\n",
        "searchInBoggle(board, words)\n",
        "\n",
        "VWords = searchInBoggle(board, words)\n",
        "print(VWords)"
      ],
      "metadata": {
        "colab": {
          "base_uri": "https://localhost:8080/"
        },
        "id": "H-x_Y59do8Cg",
        "outputId": "9119dd6c-b57e-4120-9c3f-3aae8e472b57"
      },
      "execution_count": 3,
      "outputs": [
        {
          "output_type": "stream",
          "name": "stdout",
          "text": [
            "{'SAND', 'STONED', 'NOTE'}\n"
          ]
        }
      ]
    }
  ]
}