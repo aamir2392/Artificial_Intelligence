{
  "nbformat": 4,
  "nbformat_minor": 0,
  "metadata": {
    "colab": {
      "provenance": [],
      "collapsed_sections": [],
      "authorship_tag": "ABX9TyOdNxmmAh8pBRjxEbwayec7",
      "include_colab_link": true
    },
    "kernelspec": {
      "name": "python3",
      "display_name": "Python 3"
    },
    "language_info": {
      "name": "python"
    }
  },
  "cells": [
    {
      "cell_type": "markdown",
      "metadata": {
        "id": "view-in-github",
        "colab_type": "text"
      },
      "source": [
        "<a href=\"https://colab.research.google.com/github/aamir2392/Artificial_Intelligence/blob/main/Ai_Lab_week_5_010.ipynb\" target=\"_parent\"><img src=\"https://colab.research.google.com/assets/colab-badge.svg\" alt=\"Open In Colab\"/></a>"
      ]
    },
    {
      "cell_type": "code",
      "execution_count": 2,
      "metadata": {
        "colab": {
          "base_uri": "https://localhost:8080/"
        },
        "id": "IzS6slB74iBV",
        "outputId": "08c57b51-e4ba-435c-ebae-fb77e1f37dc7"
      },
      "outputs": [
        {
          "output_type": "stream",
          "name": "stdout",
          "text": [
            "The path for this is::  0\n",
            "The path for this is::  0\n",
            "The path for this is::  1\n",
            "The path for this is::  2\n",
            "The path for this is::  0\n",
            "The path for this is::  1\n",
            "The path for this is::  3\n",
            "The path for this is::  4\n",
            "The path for this is::  2\n",
            "The path for this is::  5\n",
            "The path for this is::  6\n",
            "The Path has been founded out..!!\n"
          ]
        }
      ],
      "source": [
        "# <--------------- Iterative Deepening Search --------------------->\n",
        "graph = {'0':['1','2'], '1':['3','4'],'2':['5','6'],'3':[],'4':[],'5':[],'6':[]}\n",
        "\n",
        "def DFS(parent, destination, graph, depth):\n",
        "    print(\"The path for this is:: \",parent) \n",
        "    if parent == destination: \n",
        "        return True\n",
        "    if depth <= 0 : \n",
        "        return False\n",
        "    for childs in graph[parent]: \n",
        "\n",
        "        if DFS(childs,destination,graph,depth-1):\n",
        "            return True\n",
        "    return False\n",
        "          \n",
        "def IterativeDeep(parent,destination,graph,depth): \n",
        "    for i in range(depth): \n",
        "        if DFS(parent,destination,graph,i):   \n",
        "            return True\n",
        "    return False\n",
        "\n",
        "if not IterativeDeep('0','6',graph,4):\n",
        "    print(\"No such path found \")\n",
        "else:\n",
        "    print(\"The Path has been founded out..!!\")"
      ]
    },
    {
      "cell_type": "code",
      "source": [
        "# <--------------- Iterative Deepening Search --------------------->\n",
        "# Lab Activity 1\n",
        "\n",
        "graph = {\n",
        "        'arad':['sibiu', 'zerind', 'timisoara'],\n",
        "        'sibiu':['oradea', 'fagaras', 'rimnicu'],\n",
        "        'zerind':['arad', 'oradea'],\n",
        "        'timisoara':['arad', 'lugoj'],\n",
        "        'oradea':['zerind', 'sibiu'],\n",
        "        'fagaras':['sibiu', 'bucharest'],\n",
        "        'lugoj':['timisoara', 'mehadia'],\n",
        "        'mehadia':['lugoj', 'drobeta'],\n",
        "        'drobeta':['mehadia', 'craiova'],\n",
        "        'craiova':['drobeta', 'riminica','pitesti'],\n",
        "        'riminica':['sibui', 'pitesti','craiova'],\n",
        "        'pitesti':['riminica', 'craiova','bucharest'],\n",
        "        'bucharest':['fagaras', 'pitesti','urziceni'],\n",
        "        'urziceni':['bucharest', 'hirsova','vaslui'],\n",
        "        'hirsova':['urziceni', 'eforie'],\n",
        "        'vaslui':['isai', 'urzicini'],\n",
        "        'eforie':['hirsova'],\n",
        "        'isai':['neamt', 'vaslui'],\n",
        "        'giurgui':['bucharest'],\n",
        "        'neamt':['isai']\n",
        "        }\n",
        "\n",
        "def DFS(parent, destination, graph, depth):\n",
        "    print(\"The path for this is:: \",parent) \n",
        "    if parent == destination: \n",
        "        return True\n",
        "    if depth <= 0 : \n",
        "        return False\n",
        "    for childs in graph[parent]: \n",
        "\n",
        "        if DFS(childs,destination,graph,depth-1):\n",
        "            return True\n",
        "    return False\n",
        "          \n",
        "def IterativeDeep(parent,destination,graph,depth): \n",
        "    for i in range(depth): \n",
        "        if DFS(parent,destination,graph,i):   \n",
        "            return True\n",
        "    return False\n",
        "\n",
        "if not IterativeDeep('arad','bucharest',graph,4):\n",
        "    print(\"No such path found \")\n",
        "else:\n",
        "    print(\"The Path has been founded out..!!\")"
      ],
      "metadata": {
        "id": "onhI_BJS6EDK"
      },
      "execution_count": null,
      "outputs": []
    },
    {
      "cell_type": "code",
      "source": [
        "\n",
        "row = [-1, -1, -1, 0, 1, 0, 1, 1]\n",
        "col = [-1, 1, 0, -1, -1, 1, 0, 1]\n",
        " \n",
        " \n",
        "def isSafe(x, y, processed):\n",
        "    return (0 <= x < len(processed)) and (0 <= y < len(processed[0]))\\\n",
        "        and not processed[x][y]\n",
        " \n",
        " \n",
        "# for the generation of all possible words in a boggle\n",
        "def searchBoggle(board, words, result, processed, i, j, path=''):\n",
        "    \n",
        "    processed[i][j] = True\n",
        " \n",
        "    \n",
        "    path += board[i][j]\n",
        " \n",
        "    \n",
        "    if path in words:\n",
        "        result.add(path)\n",
        " \n",
        "    for k in range(len(row)):\n",
        "         if isSafe(i + row[k], j + col[k], processed):\n",
        "            searchBoggle(board, words, result, processed, i + row[k], j + col[k], path)\n",
        " \n",
        "    processed[i][j] = False\n",
        " \n",
        " \n",
        "def searchInBoggle(board, words):\n",
        " \n",
        "    \n",
        "    result = set()\n",
        " \n",
        "    if not board or not len(board):\n",
        "        return\n",
        " \n",
        "   \n",
        "    (M, N) = (len(board), len(board[0]))\n",
        " \n",
        "    \n",
        "    processed = [[False for x in range(N)] for y in range(M)]\n",
        " \n",
        "    \n",
        "    for i in range(M):\n",
        "        for j in range(N):\n",
        "            \n",
        "            searchBoggle(board, words, result, processed, i, j)\n",
        " \n",
        "    return result\n",
        " \n",
        " \n",
        "if __name__ == '__main__':\n",
        " \n",
        "    board = [\n",
        "        ['M', 'S', 'E'],\n",
        "        ['R', 'A', 'T'],\n",
        "        ['L', 'O', 'N']\n",
        "    ]\n",
        " \n",
        "    words = ['START', 'NOTE', 'SAND', 'STONE']\n",
        " \n",
        "    words_allowed = searchInBoggle(board, words)\n",
        "    print(\"The valid words are : \")\n",
        "    print(words_allowed)"
      ],
      "metadata": {
        "colab": {
          "base_uri": "https://localhost:8080/"
        },
        "id": "SbIIBymuK12r",
        "outputId": "b61ef3ad-3d84-40c9-ead9-7b5a3a188a3e"
      },
      "execution_count": 4,
      "outputs": [
        {
          "output_type": "stream",
          "name": "stdout",
          "text": [
            "The valid words are : \n",
            "{'NOTE'}\n"
          ]
        }
      ]
    },
    {
      "cell_type": "code",
      "source": [],
      "metadata": {
        "id": "bPiwQe6iK81B"
      },
      "execution_count": null,
      "outputs": []
    }
  ]
}