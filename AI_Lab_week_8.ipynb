{
  "nbformat": 4,
  "nbformat_minor": 0,
  "metadata": {
    "colab": {
      "provenance": [],
      "authorship_tag": "ABX9TyPamaYv65JwQrxbhIWgMRnr",
      "include_colab_link": true
    },
    "kernelspec": {
      "name": "python3",
      "display_name": "Python 3"
    },
    "language_info": {
      "name": "python"
    }
  },
  "cells": [
    {
      "cell_type": "markdown",
      "metadata": {
        "id": "view-in-github",
        "colab_type": "text"
      },
      "source": [
        "<a href=\"https://colab.research.google.com/github/aamir2392/Artificial_Intelligence/blob/main/AI_Lab_week_8.ipynb\" target=\"_parent\"><img src=\"https://colab.research.google.com/assets/colab-badge.svg\" alt=\"Open In Colab\"/></a>"
      ]
    },
    {
      "cell_type": "code",
      "execution_count": 3,
      "metadata": {
        "colab": {
          "base_uri": "https://localhost:8080/"
        },
        "id": "Ngjtuc9w4aEs",
        "outputId": "3ef44a4d-b2e6-41c1-d5e8-baf30c39c3be"
      },
      "outputs": [
        {
          "output_type": "stream",
          "name": "stdout",
          "text": [
            "['M', 'L', 'K', 'R', 'Q', 'W']\n"
          ]
        }
      ],
      "source": [
        "# Hill Climbing Search\n",
        "\n",
        "import math\n",
        "\n",
        "class Node:\n",
        "    def __init__(self, state, parent, actions, totalCost, heuristic):\n",
        "        self.state = state\n",
        "        self.parent = parent\n",
        "        self.actions = actions\n",
        "        self.totalCost = totalCost\n",
        "        self.heuristic = heuristic\n",
        "        \n",
        "        \n",
        "def HCS():\n",
        "    graph = {'A': Node('A', None, [('F',13)], 12, (12,12)),\n",
        "             'B': Node('B', None, [('I',13), ('C',13)], 12, (12,17)),\n",
        "             'C': Node('C', None, [('B',13), ('D',13), ('J',13)], 12, (12,18)),\n",
        "             'D': Node('D', None, [('C',13), ('K',13)], 12, (12,19)),\n",
        "             'E': Node('E', None, [('N',13), ('F',13)], 12, (13,12)),\n",
        "             'F': Node('F', None, [('A',13), ('E',13), ('G',13)], 12, (13,13)),\n",
        "             'G': Node('G', None, [('F',13)], 12, (13,14)),\n",
        "             'H': Node('H', None, [('O',13), ('I',13)], 12, (13,16)),\n",
        "             'I': Node('I', None, [('H',13), ('B',13), ('J',13), ('P',13)], 12, (13,17)),\n",
        "             'J': Node('J', None, [('C',13), ('I',13), ('K',13), ('Q',13)], 12, (13,18)),\n",
        "             'K': Node('K', None, [('J',13), ('D',13), ('L',13), ('R',13)], 12, (13,19)),\n",
        "             'L': Node('L', None, [('K',13), ('S',13), ('M',13)], 12, (13,20)),\n",
        "             'M': Node('M', None, [('L',13), ('Green',13), ('T',13)], 12, (13,21)),\n",
        "             'N': Node('N', None, [('E',13)], 12, (14,12)),\n",
        "             'O': Node('O', None, [('H',13), ('P',13)], 12, (14,16)),\n",
        "             'P': Node('P', None, [('O',13), ('Q',13), ('I',13)], 12, (14,17)),\n",
        "             'Q': Node('Q', None, [('W',13), ('P',13), ('J',13), ('R',13)], 12, (14,18)),\n",
        "             'R': Node('R', None, [('Q',13), ('X',13), ('S',13), ('K',13)], 12 ,(14,19)),\n",
        "             'S': Node('S', None, [('T',13), ('R',13), ('L',13), ('Y',13)], 12, (14,20)),\n",
        "             'T': Node('T', None, [('S',13), ('Z',13), ('M',13)], 12, (14,21)),\n",
        "             'U': Node('U', None, [('V',13)], 12, (15,13)),\n",
        "             'V': Node('V', None, [('U',13), ('AB',13)], 12, (15,14)),\n",
        "             'W': Node('W', None, [('X',13),('Q',13)], 12, (15,18)),\n",
        "             'X': Node('X', None, [('Y',13), ('W',13), ('R',13), ('AD',13)], 12, (15,19)),\n",
        "             'Y': Node('Y', None, [('S',13), ('X',1), ('Z',13)], 12, (15,120)),\n",
        "             'Z': Node('W', None, [('Y',13), ('T',13)], 12, (15,21)),\n",
        "             \n",
        "             'AA': Node('AA', None, [('AE',13)], 12, (16,12)),\n",
        "             'AB': Node('AB', None, [('V',13), ('AC',13)], 12, (16,14)),\n",
        "             'AC': Node('AC', None, [('AB',13), ('AF',13)], 12, (16,15)),\n",
        "             'AD': Node('AD', None, [('X',13), ('AJ',13)], 12, (16,19)),\n",
        "             'AE': Node('AE', None, [('AA',13), ('AM',13)], 12, (17,12)),\n",
        "             'AF': Node('AF', None, [('AO',13), ('AC',13), ('AG',13)], 12, (17,15)),\n",
        "             'AG': Node('AG', None, [('AF',13), ('AH',13)], 12, (17,16)),\n",
        "             'AH': Node('AH', None, [('AG',13), ('AI',13), ('AP',13)], 12, (17,17)),\n",
        "             'AI': Node('AI', None, [('AH',13), ('AG',13), ('AJ',13)], 12, (17,18)),\n",
        "             'AJ': Node('AJ', None, [('AR',13), ('AI',13), ('AK',13), ('AD',13)], 12, (17,19)),\n",
        "             'AK': Node('AK', None, [('AJ',13), ('AL',13)], 12, (17,20)),\n",
        "             'AL': Node('AL', None, [('AK',13)], 12, (17,21)),\n",
        "             'AM': Node('AM', None, [('AS',13), ('AE',13)], 12, (18,12)),\n",
        "             'AN': Node('AN', None, [('AU',13), ('AO',13)], 12, (18,14)),\n",
        "             'AO': Node('AO', None, [('AF',13), ('AN',13)], 12, (18,15)),\n",
        "             'AP': Node('AP', None, [('AW',13), ('AQ',13), ('AH',13)], 12, (18,17)),\n",
        "             'AQ': Node('AQ', None, [('AR',13), ('AP',13), ('AI',13)], 12, (18,18)),\n",
        "             'AR': Node('AR', None, [('AQ',13), ('AJ',13)], 12 ,(18,19)),\n",
        "             'AS': Node('AS', None, [('AT',13), ('AY',13), ('AM',13)], 12, (19,12)),\n",
        "             'AT': Node('AT', None, [('AS',13), ('AZ',13), ('AU',13)], 12, (19,13)),\n",
        "             'AU': Node('AU', None, [('AT',13), ('AN',13)], 12, (19,14)),\n",
        "             'AV': Node('AV', None, [('BB',13), ('AW',13)], 12, (19,16)),\n",
        "             'AW': Node('AW', None, [('AV',13), ('AP',13), ('BC',13)], 12, (19,17)),\n",
        "             'AX': Node('AX', None, [('BD',13)], 12, (19,20)),\n",
        "             'AY': Node('AY', None, [('AZ',13), ('Red',13)], 12, (20,12)),\n",
        "             'AZ': Node('AZ', None, [('AY',13), ('BF',13)], 12, (20,13)),\n",
        "\n",
        "             'BA': Node('BA', None, [('BH',13),('BB',13)], 12, (20,15)),\n",
        "             'BB': Node('BB', None, [('BA',13), ('AV',13),('BC',13)], 12, (20,16)),\n",
        "             'BC': Node('BC', None, [('BB',13), ('AW',13), ('BI',13)], 12, (20,17)),\n",
        "             'BD': Node('BD', None, [('BL',13), ('AX',13),('BE',13)], 12, (20,20)),\n",
        "             'BE': Node('BE', None, [('BD',13), ('BM',13)], 12, (20,21)),\n",
        "             'BF': Node('BF', None, [('Red',13), ('AZ',13), ('G',13)], 12, (21,13)),\n",
        "             'BG': Node('BG', None, [('BF',13),('BH',13)], 12, (21,14)),\n",
        "             'BH': Node('BH', None, [('BG',13), ('BA',13)], 12, (21,15)),\n",
        "             'BI': Node('BI', None, [('BJ',13), ('BC',13)], 12, (21,17)),\n",
        "             'BJ': Node('BJ', None, [('BI',13), ('BK',13)], 12, (21,18)),\n",
        "             'BK': Node('BK', None, [('BJ',13), ('BL',13)], 12, (21,19)),\n",
        "             'BL': Node('BL', None, [('BK',13), ('BM',13)], 12, (21,20)),\n",
        "             'BM': Node('BM', None, [('BL',13), ('BE',13)], 12, (21,21)),\n",
        "\n",
        "             'Red': Node('Red', None, [('AY',13),('BF',13)], 12, (21,12)),\n",
        "             'Green': Node('Green', None, [('M',13)], 12, (12,21))\n",
        "             }\n",
        "    \n",
        "    initialState = 'Green'\n",
        "    goalState = 'Red'\n",
        "    parentNode = initialState\n",
        "    parentCost = math.sqrt((graph[goalState].heuristic[0] - \\\n",
        "                            graph[initialState].heuristic[0])**2 +\\\n",
        "                            (graph[goalState].heuristic[1] - \\\n",
        "                             graph[initialState].heuristic[1])**2)\n",
        "    explored = []\n",
        "    solution = []\n",
        "    minChildCost = parentCost - 1\n",
        "     \n",
        "    while parentNode != goalState:\n",
        "        bestNode = parentNode\n",
        "        minChildCost = parentCost\n",
        "        explored.append(parentNode)\n",
        "        \n",
        "        for child in graph[parentNode].actions:\n",
        "            if child[0] not in explored:\n",
        "                childCost = math.sqrt((graph[goalState].heuristic[0]\\\n",
        "                                       - graph[child[0]].heuristic[0]) **2\\\n",
        "                                       + (graph[goalState].heuristic[1]\\\n",
        "                                       - graph[child[0]].heuristic[1]) **2)\n",
        "                if childCost < minChildCost:\n",
        "                    bestNode = child[0]\n",
        "                    minChildCost = childCost\n",
        "        if bestNode == parentNode:\n",
        "            break\n",
        "        else:\n",
        "            parentNode = bestNode\n",
        "            parentCost = minChildCost\n",
        "            solution.append(parentNode)\n",
        "    return solution\n",
        "\n",
        "sol = HCS()\n",
        "print(sol)\n"
      ]
    },
    {
      "cell_type": "code",
      "source": [],
      "metadata": {
        "id": "CDwkvj9N4rfA"
      },
      "execution_count": null,
      "outputs": []
    }
  ]
}